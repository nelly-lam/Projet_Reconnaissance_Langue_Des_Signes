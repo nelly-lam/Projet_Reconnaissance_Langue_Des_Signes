{
 "cells": [
  {
   "cell_type": "markdown",
   "metadata": {},
   "source": [
    "# Initialisation du projet"
   ]
  },
  {
   "cell_type": "code",
   "execution_count": 1,
   "metadata": {},
   "outputs": [],
   "source": [
    "# bibliotheques mathematiques\n",
    "import numpy as np\n",
    "\n",
    "# bibliotheques pour les representations graphiques\n",
    "import matplotlib.pyplot as plt\n",
    "import matplotlib.cm as cm\n",
    "from scipy import stats\n",
    "\n",
    "# bibliotheques pour le machine learning\n",
    "import sklearn.decomposition\n",
    "import sklearn.svm\n",
    "import sklearn.neighbors\n",
    "from sklearn.preprocessing import normalize\n",
    "from sklearn.model_selection import GridSearchCV\n",
    "from sklearn.model_selection import cross_val_score\n",
    "\n",
    "# bibliotheque pour les modèles\n",
    "from sklearn.svm import SVC\n",
    "from sklearn.svm import NuSVC\n",
    "from sklearn.svm import LinearSVC\n",
    "from sklearn.tree import DecisionTreeClassifier\n",
    "\n",
    "# bibliotheques pour le chargement des donnees\n",
    "import csv\n",
    "import pandas as pd\n",
    "\n",
    "plt.ion()"
   ]
  },
  {
   "cell_type": "code",
   "execution_count": 2,
   "metadata": {},
   "outputs": [],
   "source": [
    "def load_sub_sets(ratio_train, ratio_valid, train_csv, test_csv):\n",
    "    data_train = np.genfromtxt(train_csv, delimiter=\",\", skip_header=1) # lecture du fichier train_csv\n",
    "    y = data_train[:,0]                                                 # les labels\n",
    "    X = data_train[:,1:]                                                # les donnees (sans leurs labels)\n",
    "    \n",
    "    Ntot   = X.shape[0]                                                 # nombre d'images dans les donnees X\n",
    "    Ntrain = int(ratio_train*Ntot)                                      # nombre d'images pour l'entrainement\n",
    "    Nvalid = int(ratio_valid*Ntot)                                      # nombre d'images pour la validation\n",
    "    \n",
    "    X_train = X[0: Ntrain].copy()                                       # les donnees qu'on utilise pour entrainer les modeles\n",
    "    y_train = y[0: Ntrain].copy()                                       # les labels associes \n",
    "    \n",
    "    X_valid = X[Ntrain:Ntrain+Nvalid].copy()                            # les donnees qu'on utilise pour tester les modeles\n",
    "    y_valid = y[Ntrain:Ntrain+Nvalid].copy()                            # les labels associes\n",
    "        \n",
    "    data_test = np.genfromtxt(test_csv, delimiter=\",\", skip_header=1)   # lecture du fichier test_csv\n",
    "    data_test = data_test[1:]                                           # donnees generales du fichier test_csv (celles que le modele ne connait pas)\n",
    "    X_test  = data_test[:,1:]                                           # les labels\n",
    "    y_test  = data_test[:,0]                                            # les donnees (sans leur label)\n",
    "    \n",
    "    return X, y, X_train, y_train, X_valid, y_valid, X_test, y_test"
   ]
  },
  {
   "cell_type": "code",
   "execution_count": 3,
   "metadata": {},
   "outputs": [],
   "source": [
    "dim_repre = 28\n",
    "ratio_train = 0.7\n",
    "ratio_valid = 0.3\n",
    "\n",
    "X, y, X_train, y_train, X_valid, y_valid, X_test, y_test = load_sub_sets(ratio_train, ratio_valid, \"sign_mnist_train.csv\", \"sign_mnist_test.csv\")"
   ]
  },
  {
   "cell_type": "markdown",
   "metadata": {},
   "source": [
    "---\n",
    "# Exploration des données\n",
    "\n",
    "On affiche quelques données du dataset sous la forme d'images"
   ]
  },
  {
   "cell_type": "code",
   "execution_count": 4,
   "metadata": {},
   "outputs": [],
   "source": [
    "nb_alphabet_letters = 26\n",
    "\n",
    "def get_letter_at_idx(idx):\n",
    "    return chr(ord(\"A\") + idx)"
   ]
  },
  {
   "cell_type": "markdown",
   "metadata": {},
   "source": [
    "## 1. Représentation de différentes données"
   ]
  },
  {
   "cell_type": "code",
   "execution_count": 5,
   "metadata": {},
   "outputs": [
    {
     "data": {
      "image/png": "[encoded data removed]",
      "text/plain": [
       "<Figure size 432x288 with 3 Axes>"
      ]
     },
     "metadata": {
      "needs_background": "light"
     },
     "output_type": "display_data"
    }
   ],
   "source": [
    "nb_displayed_dataset = 3\n",
    "fig, ax = plt.subplots(1, nb_displayed_dataset)                         # creation de 3 subplots horizontaux\n",
    "\n",
    "for i in range(nb_displayed_dataset):\n",
    "    label_idx = int(y[i])                                               # on récupère l'indice alphabetique lié à la donnée\n",
    "    letter_rep = chr(ord(\"A\") + label_idx)                              # on transforme l'indice en lettre (eg. indice 0 devient 'A')\n",
    "    ax[i].set_axis_off()                                                # on cache les axes\n",
    "    ax[i].set_title(f\"Lettre : {letter_rep}\")                           # on affiche la lettre dans le titre\n",
    "    ax[i].imshow(X[i].reshape(dim_repre, dim_repre), cm.gray)           # on affiche l'image sous la forme de nuance de gris en\n",
    "                                                                        #  transformant la matrice linéaire en matrice carré"
   ]
  },
  {
   "cell_type": "markdown",
   "metadata": {},
   "source": [
    "## 2. Différentes représentations d'un même label"
   ]
  },
  {
   "cell_type": "code",
   "execution_count": 6,
   "metadata": {},
   "outputs": [
    {
     "name": "stdout",
     "output_type": "stream",
     "text": [
      "Nous avons trouvés 1126 représentations de la lettre A.\n"
     ]
    }
   ],
   "source": [
    "selected_label_idx = 0                                                  # on choisi d'afficher différentes représentations d'une lettre\n",
    "selected_letter = chr(ord(\"A\") + selected_label_idx)                    # la lettre selectionnée\n",
    "only_A = (selected_label_idx == y)                                      # on créé un mask qui filtre les données qui représente notre lettre sélectionnée\n",
    "X_of_A = X[only_A]                                                      # on applique notre masque\n",
    "print(f\"Nous avons trouvés {X_of_A.shape[0]} représentations de la lettre {selected_letter}.\")"
   ]
  },
  {
   "cell_type": "code",
   "execution_count": 7,
   "metadata": {},
   "outputs": [
    {
     "data": {
      "image/png": "[encoded data removed]",
      "text/plain": [
       "<Figure size 432x288 with 25 Axes>"
      ]
     },
     "metadata": {
      "needs_background": "light"
     },
     "output_type": "display_data"
    }
   ],
   "source": [
    "nb_subplots_by_ax = 5\n",
    "fig, ax = plt.subplots(nb_subplots_by_ax, nb_subplots_by_ax)            # creation des subplots\n",
    "\n",
    "fig.suptitle(f\"Différentes représentations d'un {selected_letter}\")\n",
    "for i in range(nb_subplots_by_ax):\n",
    "    for j in range(nb_subplots_by_ax):\n",
    "        idx = i*nb_subplots_by_ax + j                                   # on transforme le couple (i,j) en l'indice de l'image\n",
    "        img = X_of_A[idx].reshape(dim_repre, dim_repre)                 # transformation de la matrice linéaire en matrice carré\n",
    "        ax[i,j].set_axis_off()                                          # on cache les axes\n",
    "        ax[i,j].imshow(img, cm.gray)                                    # on affiche l'image sous la forme de nuance de gris"
   ]
  },
  {
   "cell_type": "markdown",
   "metadata": {},
   "source": [
    "## 3. Analyse du dataset"
   ]
  },
  {
   "cell_type": "code",
   "execution_count": 8,
   "metadata": {},
   "outputs": [
    {
     "name": "stdout",
     "output_type": "stream",
     "text": [
      "Description des données :\n"
     ]
    },
    {
     "data": {
      "text/html": [
       "<div>\n",
       "<style scoped>\n",
       "    .dataframe tbody tr th:only-of-type {\n",
       "        vertical-align: middle;\n",
       "    }\n",
       "\n",
       "    .dataframe tbody tr th {\n",
       "        vertical-align: top;\n",
       "    }\n",
       "\n",
       "    .dataframe thead th {\n",
       "        text-align: right;\n",
       "    }\n",
       "</style>\n",
       "<table border=\"1\" class=\"dataframe\">\n",
       "  <thead>\n",
       "    <tr style=\"text-align: right;\">\n",
       "      <th></th>\n",
       "      <th>0</th>\n",
       "      <th>1</th>\n",
       "      <th>2</th>\n",
       "      <th>3</th>\n",
       "      <th>4</th>\n",
       "      <th>5</th>\n",
       "      <th>6</th>\n",
       "      <th>7</th>\n",
       "      <th>8</th>\n",
       "      <th>9</th>\n",
       "      <th>...</th>\n",
       "      <th>774</th>\n",
       "      <th>775</th>\n",
       "      <th>776</th>\n",
       "      <th>777</th>\n",
       "      <th>778</th>\n",
       "      <th>779</th>\n",
       "      <th>780</th>\n",
       "      <th>781</th>\n",
       "      <th>782</th>\n",
       "      <th>783</th>\n",
       "    </tr>\n",
       "  </thead>\n",
       "  <tbody>\n",
       "    <tr>\n",
       "      <td>count</td>\n",
       "      <td>27455.000000</td>\n",
       "      <td>27455.000000</td>\n",
       "      <td>27455.000000</td>\n",
       "      <td>27455.000000</td>\n",
       "      <td>27455.000000</td>\n",
       "      <td>27455.000000</td>\n",
       "      <td>27455.000000</td>\n",
       "      <td>27455.000000</td>\n",
       "      <td>27455.000000</td>\n",
       "      <td>27455.000000</td>\n",
       "      <td>...</td>\n",
       "      <td>27455.000000</td>\n",
       "      <td>27455.000000</td>\n",
       "      <td>27455.000000</td>\n",
       "      <td>27455.000000</td>\n",
       "      <td>27455.000000</td>\n",
       "      <td>27455.000000</td>\n",
       "      <td>27455.000000</td>\n",
       "      <td>27455.000000</td>\n",
       "      <td>27455.000000</td>\n",
       "      <td>27455.000000</td>\n",
       "    </tr>\n",
       "    <tr>\n",
       "      <td>mean</td>\n",
       "      <td>145.419377</td>\n",
       "      <td>148.500273</td>\n",
       "      <td>151.247714</td>\n",
       "      <td>153.546531</td>\n",
       "      <td>156.210891</td>\n",
       "      <td>158.411255</td>\n",
       "      <td>160.472154</td>\n",
       "      <td>162.339683</td>\n",
       "      <td>163.954799</td>\n",
       "      <td>165.533673</td>\n",
       "      <td>...</td>\n",
       "      <td>141.104863</td>\n",
       "      <td>147.495611</td>\n",
       "      <td>153.325806</td>\n",
       "      <td>159.125332</td>\n",
       "      <td>161.969259</td>\n",
       "      <td>162.736696</td>\n",
       "      <td>162.906137</td>\n",
       "      <td>161.966454</td>\n",
       "      <td>161.137898</td>\n",
       "      <td>159.824731</td>\n",
       "    </tr>\n",
       "    <tr>\n",
       "      <td>std</td>\n",
       "      <td>41.358555</td>\n",
       "      <td>39.942152</td>\n",
       "      <td>39.056286</td>\n",
       "      <td>38.595247</td>\n",
       "      <td>37.111165</td>\n",
       "      <td>36.125579</td>\n",
       "      <td>35.016392</td>\n",
       "      <td>33.661998</td>\n",
       "      <td>32.651607</td>\n",
       "      <td>31.279244</td>\n",
       "      <td>...</td>\n",
       "      <td>63.751194</td>\n",
       "      <td>65.512894</td>\n",
       "      <td>64.427412</td>\n",
       "      <td>63.708507</td>\n",
       "      <td>63.738316</td>\n",
       "      <td>63.444008</td>\n",
       "      <td>63.509210</td>\n",
       "      <td>63.298721</td>\n",
       "      <td>63.610415</td>\n",
       "      <td>64.396846</td>\n",
       "    </tr>\n",
       "    <tr>\n",
       "      <td>min</td>\n",
       "      <td>0.000000</td>\n",
       "      <td>0.000000</td>\n",
       "      <td>0.000000</td>\n",
       "      <td>0.000000</td>\n",
       "      <td>0.000000</td>\n",
       "      <td>0.000000</td>\n",
       "      <td>0.000000</td>\n",
       "      <td>0.000000</td>\n",
       "      <td>0.000000</td>\n",
       "      <td>0.000000</td>\n",
       "      <td>...</td>\n",
       "      <td>0.000000</td>\n",
       "      <td>0.000000</td>\n",
       "      <td>0.000000</td>\n",
       "      <td>0.000000</td>\n",
       "      <td>0.000000</td>\n",
       "      <td>0.000000</td>\n",
       "      <td>0.000000</td>\n",
       "      <td>0.000000</td>\n",
       "      <td>0.000000</td>\n",
       "      <td>0.000000</td>\n",
       "    </tr>\n",
       "    <tr>\n",
       "      <td>25%</td>\n",
       "      <td>121.000000</td>\n",
       "      <td>126.000000</td>\n",
       "      <td>130.000000</td>\n",
       "      <td>133.000000</td>\n",
       "      <td>137.000000</td>\n",
       "      <td>140.000000</td>\n",
       "      <td>142.000000</td>\n",
       "      <td>144.000000</td>\n",
       "      <td>146.000000</td>\n",
       "      <td>148.000000</td>\n",
       "      <td>...</td>\n",
       "      <td>92.000000</td>\n",
       "      <td>96.000000</td>\n",
       "      <td>103.000000</td>\n",
       "      <td>112.000000</td>\n",
       "      <td>120.000000</td>\n",
       "      <td>125.000000</td>\n",
       "      <td>128.000000</td>\n",
       "      <td>128.000000</td>\n",
       "      <td>128.000000</td>\n",
       "      <td>125.500000</td>\n",
       "    </tr>\n",
       "    <tr>\n",
       "      <td>50%</td>\n",
       "      <td>150.000000</td>\n",
       "      <td>153.000000</td>\n",
       "      <td>156.000000</td>\n",
       "      <td>158.000000</td>\n",
       "      <td>160.000000</td>\n",
       "      <td>162.000000</td>\n",
       "      <td>164.000000</td>\n",
       "      <td>165.000000</td>\n",
       "      <td>166.000000</td>\n",
       "      <td>167.000000</td>\n",
       "      <td>...</td>\n",
       "      <td>144.000000</td>\n",
       "      <td>162.000000</td>\n",
       "      <td>172.000000</td>\n",
       "      <td>180.000000</td>\n",
       "      <td>183.000000</td>\n",
       "      <td>184.000000</td>\n",
       "      <td>184.000000</td>\n",
       "      <td>182.000000</td>\n",
       "      <td>182.000000</td>\n",
       "      <td>182.000000</td>\n",
       "    </tr>\n",
       "    <tr>\n",
       "      <td>75%</td>\n",
       "      <td>174.000000</td>\n",
       "      <td>176.000000</td>\n",
       "      <td>178.000000</td>\n",
       "      <td>179.000000</td>\n",
       "      <td>181.000000</td>\n",
       "      <td>182.000000</td>\n",
       "      <td>183.000000</td>\n",
       "      <td>184.000000</td>\n",
       "      <td>185.000000</td>\n",
       "      <td>186.000000</td>\n",
       "      <td>...</td>\n",
       "      <td>196.000000</td>\n",
       "      <td>202.000000</td>\n",
       "      <td>205.000000</td>\n",
       "      <td>207.000000</td>\n",
       "      <td>208.000000</td>\n",
       "      <td>207.000000</td>\n",
       "      <td>207.000000</td>\n",
       "      <td>206.000000</td>\n",
       "      <td>204.000000</td>\n",
       "      <td>204.000000</td>\n",
       "    </tr>\n",
       "    <tr>\n",
       "      <td>max</td>\n",
       "      <td>255.000000</td>\n",
       "      <td>255.000000</td>\n",
       "      <td>255.000000</td>\n",
       "      <td>255.000000</td>\n",
       "      <td>255.000000</td>\n",
       "      <td>255.000000</td>\n",
       "      <td>255.000000</td>\n",
       "      <td>255.000000</td>\n",
       "      <td>255.000000</td>\n",
       "      <td>255.000000</td>\n",
       "      <td>...</td>\n",
       "      <td>255.000000</td>\n",
       "      <td>255.000000</td>\n",
       "      <td>255.000000</td>\n",
       "      <td>255.000000</td>\n",
       "      <td>255.000000</td>\n",
       "      <td>255.000000</td>\n",
       "      <td>255.000000</td>\n",
       "      <td>255.000000</td>\n",
       "      <td>255.000000</td>\n",
       "      <td>255.000000</td>\n",
       "    </tr>\n",
       "  </tbody>\n",
       "</table>\n",
       "<p>8 rows × 784 columns</p>\n",
       "</div>"
      ],
      "text/plain": [
       "                0             1             2             3             4    \\\n",
       "count  27455.000000  27455.000000  27455.000000  27455.000000  27455.000000   \n",
       "mean     145.419377    148.500273    151.247714    153.546531    156.210891   \n",
       "std       41.358555     39.942152     39.056286     38.595247     37.111165   \n",
       "min        0.000000      0.000000      0.000000      0.000000      0.000000   \n",
       "25%      121.000000    126.000000    130.000000    133.000000    137.000000   \n",
       "50%      150.000000    153.000000    156.000000    158.000000    160.000000   \n",
       "75%      174.000000    176.000000    178.000000    179.000000    181.000000   \n",
       "max      255.000000    255.000000    255.000000    255.000000    255.000000   \n",
       "\n",
       "                5             6             7             8             9    \\\n",
       "count  27455.000000  27455.000000  27455.000000  27455.000000  27455.000000   \n",
       "mean     158.411255    160.472154    162.339683    163.954799    165.533673   \n",
       "std       36.125579     35.016392     33.661998     32.651607     31.279244   \n",
       "min        0.000000      0.000000      0.000000      0.000000      0.000000   \n",
       "25%      140.000000    142.000000    144.000000    146.000000    148.000000   \n",
       "50%      162.000000    164.000000    165.000000    166.000000    167.000000   \n",
       "75%      182.000000    183.000000    184.000000    185.000000    186.000000   \n",
       "max      255.000000    255.000000    255.000000    255.000000    255.000000   \n",
       "\n",
       "       ...           774           775           776           777  \\\n",
       "count  ...  27455.000000  27455.000000  27455.000000  27455.000000   \n",
       "mean   ...    141.104863    147.495611    153.325806    159.125332   \n",
       "std    ...     63.751194     65.512894     64.427412     63.708507   \n",
       "min    ...      0.000000      0.000000      0.000000      0.000000   \n",
       "25%    ...     92.000000     96.000000    103.000000    112.000000   \n",
       "50%    ...    144.000000    162.000000    172.000000    180.000000   \n",
       "75%    ...    196.000000    202.000000    205.000000    207.000000   \n",
       "max    ...    255.000000    255.000000    255.000000    255.000000   \n",
       "\n",
       "                778           779           780           781           782  \\\n",
       "count  27455.000000  27455.000000  27455.000000  27455.000000  27455.000000   \n",
       "mean     161.969259    162.736696    162.906137    161.966454    161.137898   \n",
       "std       63.738316     63.444008     63.509210     63.298721     63.610415   \n",
       "min        0.000000      0.000000      0.000000      0.000000      0.000000   \n",
       "25%      120.000000    125.000000    128.000000    128.000000    128.000000   \n",
       "50%      183.000000    184.000000    184.000000    182.000000    182.000000   \n",
       "75%      208.000000    207.000000    207.000000    206.000000    204.000000   \n",
       "max      255.000000    255.000000    255.000000    255.000000    255.000000   \n",
       "\n",
       "                783  \n",
       "count  27455.000000  \n",
       "mean     159.824731  \n",
       "std       64.396846  \n",
       "min        0.000000  \n",
       "25%      125.500000  \n",
       "50%      182.000000  \n",
       "75%      204.000000  \n",
       "max      255.000000  \n",
       "\n",
       "[8 rows x 784 columns]"
      ]
     },
     "execution_count": 8,
     "metadata": {},
     "output_type": "execute_result"
    }
   ],
   "source": [
    "print(\"Description des données :\")\n",
    "\n",
    "df = pd.DataFrame(X)\n",
    "df.describe()"
   ]
  },
  {
   "cell_type": "code",
   "execution_count": 9,
   "metadata": {},
   "outputs": [
    {
     "name": "stdout",
     "output_type": "stream",
     "text": [
      "Description des labels :\n"
     ]
    },
    {
     "data": {
      "text/html": [
       "<div>\n",
       "<style scoped>\n",
       "    .dataframe tbody tr th:only-of-type {\n",
       "        vertical-align: middle;\n",
       "    }\n",
       "\n",
       "    .dataframe tbody tr th {\n",
       "        vertical-align: top;\n",
       "    }\n",
       "\n",
       "    .dataframe thead th {\n",
       "        text-align: right;\n",
       "    }\n",
       "</style>\n",
       "<table border=\"1\" class=\"dataframe\">\n",
       "  <thead>\n",
       "    <tr style=\"text-align: right;\">\n",
       "      <th></th>\n",
       "      <th>labels</th>\n",
       "    </tr>\n",
       "  </thead>\n",
       "  <tbody>\n",
       "    <tr>\n",
       "      <td>count</td>\n",
       "      <td>27455.000000</td>\n",
       "    </tr>\n",
       "    <tr>\n",
       "      <td>mean</td>\n",
       "      <td>12.318813</td>\n",
       "    </tr>\n",
       "    <tr>\n",
       "      <td>std</td>\n",
       "      <td>7.287552</td>\n",
       "    </tr>\n",
       "    <tr>\n",
       "      <td>min</td>\n",
       "      <td>0.000000</td>\n",
       "    </tr>\n",
       "    <tr>\n",
       "      <td>25%</td>\n",
       "      <td>6.000000</td>\n",
       "    </tr>\n",
       "    <tr>\n",
       "      <td>50%</td>\n",
       "      <td>13.000000</td>\n",
       "    </tr>\n",
       "    <tr>\n",
       "      <td>75%</td>\n",
       "      <td>19.000000</td>\n",
       "    </tr>\n",
       "    <tr>\n",
       "      <td>max</td>\n",
       "      <td>24.000000</td>\n",
       "    </tr>\n",
       "  </tbody>\n",
       "</table>\n",
       "</div>"
      ],
      "text/plain": [
       "             labels\n",
       "count  27455.000000\n",
       "mean      12.318813\n",
       "std        7.287552\n",
       "min        0.000000\n",
       "25%        6.000000\n",
       "50%       13.000000\n",
       "75%       19.000000\n",
       "max       24.000000"
      ]
     },
     "execution_count": 9,
     "metadata": {},
     "output_type": "execute_result"
    }
   ],
   "source": [
    "print(\"Description des labels :\")\n",
    "\n",
    "df = pd.DataFrame(y, columns=[\"labels\"])\n",
    "df.describe()"
   ]
  },
  {
   "cell_type": "code",
   "execution_count": 10,
   "metadata": {},
   "outputs": [
    {
     "data": {
      "image/png": "[encoded data removed]",
      "text/plain": [
       "<Figure size 432x288 with 1 Axes>"
      ]
     },
     "metadata": {
      "needs_background": "light"
     },
     "output_type": "display_data"
    },
    {
     "name": "stdout",
     "output_type": "stream",
     "text": [
      "\n",
      "Il manque les lettres : J, Z\n"
     ]
    }
   ],
   "source": [
    "xticks_labels = [get_letter_at_idx(i) for i in range(nb_alphabet_letters)]\n",
    "\n",
    "fig, ax = plt.subplots(1, 1)\n",
    "hist, _, _ = ax.hist(y, bins=range(nb_alphabet_letters))\n",
    "ax.set_xticks(range(nb_alphabet_letters))\n",
    "ax.set_title(\"Nombre de données par label\")\n",
    "ax.set_xticklabels(xticks_labels)\n",
    "ax.set_xlim(0)\n",
    "plt.show()\n",
    "\n",
    "h = hist.copy()\n",
    "h.resize(nb_alphabet_letters)\n",
    "missing_indexes = [arg[0] for arg in np.argwhere(h == 0.)]\n",
    "print(f\"\\nIl manque les lettres : {', '.join(map(get_letter_at_idx, missing_indexes))}\")"
   ]
  },
  {
   "cell_type": "markdown",
   "metadata": {},
   "source": [
    "## 4. Affichage des images moyennes"
   ]
  },
  {
   "cell_type": "code",
   "execution_count": 11,
   "metadata": {},
   "outputs": [],
   "source": [
    "def display_mean_image(X, y):\n",
    "    nb_rows = 5\n",
    "    nb_cols = 5\n",
    "    fig, ax = plt.subplots(nb_rows, nb_cols, figsize=(8,8))\n",
    "\n",
    "    fig.subplots_adjust(hspace=.3)\n",
    "    fig.suptitle(f\"Représentations moyenne des différentes lettres\")\n",
    "\n",
    "    for i in range(nb_rows):\n",
    "        for j in range(nb_cols):\n",
    "            idx = i * nb_rows + j\n",
    "            if idx > nb_alphabet_letters:\n",
    "                break\n",
    "            ax[i,j].set_axis_off()\n",
    "            ax[i,j].set_title(get_letter_at_idx(idx))\n",
    "            if idx in missing_indexes:\n",
    "                continue\n",
    "            only_of_letter = (idx == y)                                     # on créé un mask qui filtre les données qui représente notre lettre sélectionnée\n",
    "            X_of_letter = X[only_of_letter]                                 # on applique notre masque\n",
    "            mean_X_of_letter = np.mean(X_of_letter, axis=0)\n",
    "            mean_img = mean_X_of_letter.reshape((dim_repre, dim_repre))\n",
    "            ax[i,j].imshow(mean_img, cm.gray)"
   ]
  },
  {
   "cell_type": "code",
   "execution_count": 12,
   "metadata": {},
   "outputs": [
    {
     "data": {
      "image/png": "[encoded data removed]",
      "text/plain": [
       "<Figure size 576x576 with 25 Axes>"
      ]
     },
     "metadata": {
      "needs_background": "light"
     },
     "output_type": "display_data"
    }
   ],
   "source": [
    "display_mean_image(X, y)"
   ]
  },
  {
   "cell_type": "markdown",
   "metadata": {},
   "source": [
    "# Filtrage des doublons"
   ]
  },
  {
   "cell_type": "code",
   "execution_count": 13,
   "metadata": {},
   "outputs": [],
   "source": [
    "def show_duplicated(data, duplicated, n_rows=3, n_max_cols=5):\n",
    "    fig, ax = plt.subplots(n_rows, n_max_cols+1)\n",
    "\n",
    "    fig.suptitle(\"Affichage des images dupliqués\")\n",
    "    duplicated = list(filter(lambda x: len(x[1]) == n_max_cols, duplicated))\n",
    "\n",
    "    for i, (img_idx, others) in enumerate(duplicated[:n_rows]):\n",
    "        img = data[img_idx]\n",
    "        ax[i, 0].imshow(img.reshape(dim_repre, dim_repre), cm.gray)\n",
    "        ax[i, 0].set_axis_off()                                         # on cache les axes\n",
    "        if i == 0: ax[i, 0].set_title(\"originale\")                      # on affiche la lettre dans le titre\n",
    "        for j, dup_img_idx in enumerate(others):\n",
    "            dup_img = data[dup_img_idx]\n",
    "            ax[i, j+1].imshow(dup_img.reshape(dim_repre, dim_repre), cm.gray)\n",
    "            ax[i, j+1].set_axis_off()                                   # on cache les axes\n",
    "            if i == 0: ax[i, j+1].set_title(f\"{j+1}\")                   # on affiche la lettre dans le titre\n",
    "\n",
    "# from @abakar https://stackoverflow.com/a/60223949\n",
    "def remove_values_with_corr_sup(data, corr_bound):\n",
    "    def get_duplicated_data(corr_upper, col):\n",
    "        mask = (corr_upper[col] > corr_bound).to_numpy()\n",
    "        return [args[0] for args in np.argwhere(mask == True)]\n",
    "    df = pd.DataFrame(data).transpose()\n",
    "    corr_matrix = df.corr().abs()\n",
    "    triu_ones = np.triu(np.ones(corr_matrix.shape), k=1)\n",
    "    corr_upper = corr_matrix.where(triu_ones.astype(np.bool))\n",
    "    to_drop = [col for col in corr_upper.columns if any(corr_upper[col] > corr_bound)]\n",
    "    duplicated = [(col, get_duplicated_data(corr_upper, col)) for col in to_drop]\n",
    "    df = df.drop(df[to_drop], axis=1)\n",
    "    data = df.transpose().to_numpy()\n",
    "    return data, duplicated, to_drop"
   ]
  },
  {
   "cell_type": "code",
   "execution_count": 14,
   "metadata": {},
   "outputs": [
    {
     "name": "stdout",
     "output_type": "stream",
     "text": [
      "Suppression des doublons dans les données de validation ...\n"
     ]
    },
    {
     "ename": "KeyboardInterrupt",
     "evalue": "",
     "output_type": "error",
     "traceback": [
      "\u001b[1;31m---------------------------------------------------------------------------\u001b[0m",
      "\u001b[1;31mKeyboardInterrupt\u001b[0m                         Traceback (most recent call last)",
      "\u001b[1;32m<ipython-input-14-329e83eba9e5>\u001b[0m in \u001b[0;36m<module>\u001b[1;34m\u001b[0m\n\u001b[0;32m      2\u001b[0m \u001b[1;33m\u001b[0m\u001b[0m\n\u001b[0;32m      3\u001b[0m \u001b[0mprint\u001b[0m\u001b[1;33m(\u001b[0m\u001b[1;34m\"Suppression des doublons dans les données de validation ...\"\u001b[0m\u001b[1;33m)\u001b[0m\u001b[1;33m\u001b[0m\u001b[1;33m\u001b[0m\u001b[0m\n\u001b[1;32m----> 4\u001b[1;33m \u001b[0mX_valid_bis\u001b[0m\u001b[1;33m,\u001b[0m \u001b[0mX_valid_dup\u001b[0m\u001b[1;33m,\u001b[0m \u001b[0mX_valid_dropped\u001b[0m \u001b[1;33m=\u001b[0m \u001b[0mremove_values_with_corr_sup\u001b[0m\u001b[1;33m(\u001b[0m\u001b[0mX_valid\u001b[0m\u001b[1;33m,\u001b[0m \u001b[0mcorr_threshold\u001b[0m\u001b[1;33m)\u001b[0m\u001b[1;33m\u001b[0m\u001b[1;33m\u001b[0m\u001b[0m\n\u001b[0m\u001b[0;32m      5\u001b[0m \u001b[0my_valid_bis\u001b[0m \u001b[1;33m=\u001b[0m \u001b[0mnp\u001b[0m\u001b[1;33m.\u001b[0m\u001b[0mdelete\u001b[0m\u001b[1;33m(\u001b[0m\u001b[0my_valid\u001b[0m\u001b[1;33m,\u001b[0m \u001b[0mX_valid_dropped\u001b[0m\u001b[1;33m)\u001b[0m\u001b[1;33m\u001b[0m\u001b[1;33m\u001b[0m\u001b[0m\n\u001b[0;32m      6\u001b[0m \u001b[0mprint\u001b[0m\u001b[1;33m(\u001b[0m\u001b[1;34m\"Suppression des doublons dans les données de test ...\"\u001b[0m\u001b[1;33m)\u001b[0m\u001b[1;33m\u001b[0m\u001b[1;33m\u001b[0m\u001b[0m\n",
      "\u001b[1;32m<ipython-input-13-8b2348ca9360>\u001b[0m in \u001b[0;36mremove_values_with_corr_sup\u001b[1;34m(data, corr_bound)\u001b[0m\n\u001b[0;32m     22\u001b[0m         \u001b[1;32mreturn\u001b[0m \u001b[1;33m[\u001b[0m\u001b[0margs\u001b[0m\u001b[1;33m[\u001b[0m\u001b[1;36m0\u001b[0m\u001b[1;33m]\u001b[0m \u001b[1;32mfor\u001b[0m \u001b[0margs\u001b[0m \u001b[1;32min\u001b[0m \u001b[0mnp\u001b[0m\u001b[1;33m.\u001b[0m\u001b[0margwhere\u001b[0m\u001b[1;33m(\u001b[0m\u001b[0mmask\u001b[0m \u001b[1;33m==\u001b[0m \u001b[1;32mTrue\u001b[0m\u001b[1;33m)\u001b[0m\u001b[1;33m]\u001b[0m\u001b[1;33m\u001b[0m\u001b[1;33m\u001b[0m\u001b[0m\n\u001b[0;32m     23\u001b[0m     \u001b[0mdf\u001b[0m \u001b[1;33m=\u001b[0m \u001b[0mpd\u001b[0m\u001b[1;33m.\u001b[0m\u001b[0mDataFrame\u001b[0m\u001b[1;33m(\u001b[0m\u001b[0mdata\u001b[0m\u001b[1;33m)\u001b[0m\u001b[1;33m.\u001b[0m\u001b[0mtranspose\u001b[0m\u001b[1;33m(\u001b[0m\u001b[1;33m)\u001b[0m\u001b[1;33m\u001b[0m\u001b[1;33m\u001b[0m\u001b[0m\n\u001b[1;32m---> 24\u001b[1;33m     \u001b[0mcorr_matrix\u001b[0m \u001b[1;33m=\u001b[0m \u001b[0mdf\u001b[0m\u001b[1;33m.\u001b[0m\u001b[0mcorr\u001b[0m\u001b[1;33m(\u001b[0m\u001b[1;33m)\u001b[0m\u001b[1;33m.\u001b[0m\u001b[0mabs\u001b[0m\u001b[1;33m(\u001b[0m\u001b[1;33m)\u001b[0m\u001b[1;33m\u001b[0m\u001b[1;33m\u001b[0m\u001b[0m\n\u001b[0m\u001b[0;32m     25\u001b[0m     \u001b[0mtriu_ones\u001b[0m \u001b[1;33m=\u001b[0m \u001b[0mnp\u001b[0m\u001b[1;33m.\u001b[0m\u001b[0mtriu\u001b[0m\u001b[1;33m(\u001b[0m\u001b[0mnp\u001b[0m\u001b[1;33m.\u001b[0m\u001b[0mones\u001b[0m\u001b[1;33m(\u001b[0m\u001b[0mcorr_matrix\u001b[0m\u001b[1;33m.\u001b[0m\u001b[0mshape\u001b[0m\u001b[1;33m)\u001b[0m\u001b[1;33m,\u001b[0m \u001b[0mk\u001b[0m\u001b[1;33m=\u001b[0m\u001b[1;36m1\u001b[0m\u001b[1;33m)\u001b[0m\u001b[1;33m\u001b[0m\u001b[1;33m\u001b[0m\u001b[0m\n\u001b[0;32m     26\u001b[0m     \u001b[0mcorr_upper\u001b[0m \u001b[1;33m=\u001b[0m \u001b[0mcorr_matrix\u001b[0m\u001b[1;33m.\u001b[0m\u001b[0mwhere\u001b[0m\u001b[1;33m(\u001b[0m\u001b[0mtriu_ones\u001b[0m\u001b[1;33m.\u001b[0m\u001b[0mastype\u001b[0m\u001b[1;33m(\u001b[0m\u001b[0mnp\u001b[0m\u001b[1;33m.\u001b[0m\u001b[0mbool\u001b[0m\u001b[1;33m)\u001b[0m\u001b[1;33m)\u001b[0m\u001b[1;33m\u001b[0m\u001b[1;33m\u001b[0m\u001b[0m\n",
      "\u001b[1;32m~\\Anaconda3\\lib\\site-packages\\pandas\\core\\frame.py\u001b[0m in \u001b[0;36mcorr\u001b[1;34m(self, method, min_periods)\u001b[0m\n\u001b[0;32m   7498\u001b[0m \u001b[1;33m\u001b[0m\u001b[0m\n\u001b[0;32m   7499\u001b[0m         \u001b[1;32mif\u001b[0m \u001b[0mmethod\u001b[0m \u001b[1;33m==\u001b[0m \u001b[1;34m\"pearson\"\u001b[0m\u001b[1;33m:\u001b[0m\u001b[1;33m\u001b[0m\u001b[1;33m\u001b[0m\u001b[0m\n\u001b[1;32m-> 7500\u001b[1;33m             \u001b[0mcorrel\u001b[0m \u001b[1;33m=\u001b[0m \u001b[0mlibalgos\u001b[0m\u001b[1;33m.\u001b[0m\u001b[0mnancorr\u001b[0m\u001b[1;33m(\u001b[0m\u001b[0mensure_float64\u001b[0m\u001b[1;33m(\u001b[0m\u001b[0mmat\u001b[0m\u001b[1;33m)\u001b[0m\u001b[1;33m,\u001b[0m \u001b[0mminp\u001b[0m\u001b[1;33m=\u001b[0m\u001b[0mmin_periods\u001b[0m\u001b[1;33m)\u001b[0m\u001b[1;33m\u001b[0m\u001b[1;33m\u001b[0m\u001b[0m\n\u001b[0m\u001b[0;32m   7501\u001b[0m         \u001b[1;32melif\u001b[0m \u001b[0mmethod\u001b[0m \u001b[1;33m==\u001b[0m \u001b[1;34m\"spearman\"\u001b[0m\u001b[1;33m:\u001b[0m\u001b[1;33m\u001b[0m\u001b[1;33m\u001b[0m\u001b[0m\n\u001b[0;32m   7502\u001b[0m             \u001b[0mcorrel\u001b[0m \u001b[1;33m=\u001b[0m \u001b[0mlibalgos\u001b[0m\u001b[1;33m.\u001b[0m\u001b[0mnancorr_spearman\u001b[0m\u001b[1;33m(\u001b[0m\u001b[0mensure_float64\u001b[0m\u001b[1;33m(\u001b[0m\u001b[0mmat\u001b[0m\u001b[1;33m)\u001b[0m\u001b[1;33m,\u001b[0m \u001b[0mminp\u001b[0m\u001b[1;33m=\u001b[0m\u001b[0mmin_periods\u001b[0m\u001b[1;33m)\u001b[0m\u001b[1;33m\u001b[0m\u001b[1;33m\u001b[0m\u001b[0m\n",
      "\u001b[1;31mKeyboardInterrupt\u001b[0m: "
     ]
    }
   ],
   "source": [
    "corr_threshold = .99\n",
    "\n",
    "print(\"Suppression des doublons dans les données de validation ...\")\n",
    "X_valid_bis, X_valid_dup, X_valid_dropped = remove_values_with_corr_sup(X_valid, corr_threshold)\n",
    "y_valid_bis = np.delete(y_valid, X_valid_dropped)\n",
    "print(\"Suppression des doublons dans les données de test ...\")\n",
    "X_test_bis, X_test_dup, X_test_dropped = remove_values_with_corr_sup(X_test, corr_threshold)\n",
    "y_test_bis = np.delete(y_test, X_test_dropped)"
   ]
  },
  {
   "cell_type": "code",
   "execution_count": null,
   "metadata": {},
   "outputs": [],
   "source": [
    "show_duplicated(X_valid, X_valid_dup)"
   ]
  },
  {
   "cell_type": "code",
   "execution_count": null,
   "metadata": {},
   "outputs": [],
   "source": [
    "fig, ax = plt.subplots(1, 2)\n",
    "\n",
    "fig.subplots_adjust(wspace=.3)\n",
    "\n",
    "ax[0].set_title(\"Données de validation\")\n",
    "ax[0].bar([\"Avant\", \"Après\"], [X_valid.shape[0], X_valid_bis.shape[0]], width=1)\n",
    "ax[0].set_ylabel(\"nombre de données\")\n",
    "\n",
    "ax[1].set_title(\"Données de test\")\n",
    "ax[1].bar([\"Avant\", \"Après\"], [X_test.shape[0], X_test_bis.shape[0]], width=1)\n",
    "\n",
    "plt.show()"
   ]
  },
  {
   "cell_type": "markdown",
   "metadata": {},
   "source": [
    "---\n",
    "\n",
    "# Préprocessing\n",
    "Sélection du meilleur nombre de composants"
   ]
  },
  {
   "cell_type": "code",
   "execution_count": null,
   "metadata": {},
   "outputs": [],
   "source": [
    "class CompRanker:\n",
    "    def __init__(self, n):\n",
    "        self.n_comps_score = [0 for i in range(n)]\n",
    "        \n",
    "    def update_rank(self, data, reverse=False):\n",
    "        for i, x in enumerate(data):\n",
    "            self.n_comps_score[i] += -x if reverse else x\n",
    "\n",
    "    def get_best_n_comps(self, nb_comp_range):\n",
    "        scores = sorted(enumerate(self.n_comps_score), key=lambda x: x[1], reverse=True)\n",
    "        formated_ranks = [(nb_comp_range[i], score) for i, score in scores]\n",
    "        return tuple(zip(*formated_ranks))"
   ]
  },
  {
   "cell_type": "code",
   "execution_count": null,
   "metadata": {},
   "outputs": [],
   "source": [
    "def get_scores_for_nb_comp_range(nb_comp_range):\n",
    "    training_scores = []                                                # tableau des scores d'entrainement en fonction du nombre de composants séléctionné\n",
    "    valid_scores = []                                                   # tableau des scores de validation en fonction du nombre de composants séléctionné\n",
    "    explained_variances = []                                            # tableau des scores de validation en fonction du nombre de composants séléctionné\n",
    "    tab_result = pd.DataFrame(columns=[\n",
    "        \"score d\\'entrainement\",\n",
    "        \"score de validation\",\n",
    "        \"différence\"])                                                  # tableau récapitulatif\n",
    "\n",
    "    for nb_comp in nb_comp_range:\n",
    "        print(f\"Récupération du score pour une PCA de {nb_comp} composants...\")\n",
    "        pre_proc = sklearn.decomposition.PCA(n_components=nb_comp)      # création d'un PCA permettant la compression des images en nb_comp pixels\n",
    "        pre_proc.fit(X)                                                 # entrainement du modèle PCA\n",
    "        X_train_transformed = pre_proc.transform(X_train)               # transformation des données d'entrainement en fonction du PCA\n",
    "        X_valid_transformed = pre_proc.transform(X_valid)               # transformation des données de validation en fonction du PCA\n",
    "\n",
    "        clf = sklearn.svm.SVC(kernel=\"poly\", coef0=1, degree=2)         # on choisit un classifieur SVC\n",
    "        clf.fit(X_train_transformed, y_train)                           # on entraine notre classifieur avec X_train_transformed\n",
    "\n",
    "        train_score = clf.score(X_train_transformed, y_train)           # on récupère les scores liés (entrainement)\n",
    "        valid_score = clf.score(X_valid_transformed, y_valid)           # on récupère les scores liés (validation)\n",
    "\n",
    "        tab_result.loc[f\"{nb_comp} composants\"] = np.array([\n",
    "            f\"{train_score * 100:.2f}%\",\n",
    "            f\"{valid_score * 100:.2f}%\",\n",
    "            f\"{(train_score-valid_score) * 100:.2f}%\"])                 # ajout des données dans le tableau récapitulatif (en pourcentage)\n",
    "\n",
    "        training_scores.append(train_score * 100)                       # on sauvegarde les scores d'entrainement pour les statistiques\n",
    "        valid_scores.append(valid_score * 100)                          # on sauvegarde les scores de validation pour les statistiques\n",
    "        explained_variances.append(sum(pre_proc.explained_variance_ratio_) * 100)\n",
    "\n",
    "    return np.array(training_scores), np.array(valid_scores), explained_variances, tab_result"
   ]
  },
  {
   "cell_type": "code",
   "execution_count": null,
   "metadata": {},
   "outputs": [],
   "source": [
    "def plot_best_explained_variance(comp_ranker, nb_comp_range, explained_variances):\n",
    "    plt.title(\"Évolution de la variance expliquée\\nen fonction du nombre de composants\")\n",
    "    plt.plot(nb_comp_range, explained_variances)\n",
    "    plt.xlabel(\"nombre de composants\")\n",
    "    plt.ylabel(\"variance expliquée (%)\")\n",
    "\n",
    "    best_index = np.argmax(explained_variances)\n",
    "    best_n_comp = nb_comp_range[best_index]\n",
    "    plt.plot(best_n_comp, explained_variances[best_index], marker=\"X\", color=\"red\")\n",
    "\n",
    "    print(f\"Meilleur nombre de composants pour maximiser la variance expliqué : {best_n_comp}\\n\")\n",
    "    comp_ranker.update_rank(explained_variances)"
   ]
  },
  {
   "cell_type": "code",
   "execution_count": null,
   "metadata": {},
   "outputs": [],
   "source": [
    "def plot_best_scores(comp_ranker, nb_comp_range, training_scores, valid_scores):\n",
    "    plt.title(\"Évolution du score en fonction du nombre de composants\")\n",
    "    plt.plot(nb_comp_range, training_scores, label=\"train score\")\n",
    "    plt.plot(nb_comp_range, valid_scores, label=\"valid score\")\n",
    "    plt.xlabel(\"nombre de composants\")\n",
    "    plt.ylabel(\"scores (%)\")\n",
    "    plt.legend()\n",
    "\n",
    "    best_index = np.argmax(training_scores)\n",
    "    best_n_comp = nb_comp_range[best_index]\n",
    "    plt.plot(best_n_comp, training_scores[best_index], marker=\"X\", color=\"red\")\n",
    "\n",
    "    print(f\"Meilleur nombre de composants pour maximiser le score : {best_n_comp}\\n\")\n",
    "    comp_ranker.update_rank(training_scores)"
   ]
  },
  {
   "cell_type": "code",
   "execution_count": null,
   "metadata": {},
   "outputs": [],
   "source": [
    "def plot_less_overfitting(comp_ranker, nb_comp_range, training_scores, valid_scores):\n",
    "    diff_scores = training_scores - valid_scores\n",
    "\n",
    "    plt.title(\"Évolution de l'overfitting en fonction du nombre de composants\")\n",
    "    plt.plot(nb_comp_range, diff_scores)\n",
    "    plt.xlabel(\"nombre de composants\")\n",
    "    plt.ylabel(\"différence (%)\")\n",
    "\n",
    "    best_index = np.argmin(diff_scores)\n",
    "    best_n_comp = nb_comp_range[best_index]\n",
    "    plt.plot(best_n_comp, diff_scores[best_index], marker=\"X\", color=\"red\")\n",
    "\n",
    "    print(f\"Meilleur nombre de composants pour minimiser l'overfitting : {best_n_comp}\\n\")\n",
    "\n",
    "    comp_ranker.update_rank(diff_scores, reverse=True)"
   ]
  },
  {
   "cell_type": "code",
   "execution_count": null,
   "metadata": {},
   "outputs": [],
   "source": [
    "def plot_best_incr_scores(comp_ranker, nb_comp_range, training_scores, valid_scores):\n",
    "    training_scores_incr = np.array([\n",
    "        score - training_scores[i-1] if i != 0 else 0\n",
    "        for i, score in enumerate(training_scores)])\n",
    "    valid_scores_incr = np.array([\n",
    "        score - valid_scores[i-1] if i != 0 else 0\n",
    "        for i, score in enumerate(valid_scores)])\n",
    "\n",
    "    plt.title(\"Évolution de l'accroissement du score en fonction du nombre de composants\")\n",
    "    plt.plot(nb_comp_range, training_scores_incr, label=\"train score\")\n",
    "    plt.plot(nb_comp_range, valid_scores_incr, label=\"valid score\")\n",
    "    plt.xlabel(\"nombre de composants\")\n",
    "    plt.ylabel(\"accroissement du score (%)\")\n",
    "    plt.legend()\n",
    "\n",
    "    best_index = np.argmax(training_scores_incr)\n",
    "    best_n_comp = nb_comp_range[best_index]\n",
    "    plt.plot(best_n_comp, training_scores_incr[best_index], marker=\"X\", color=\"red\")\n",
    "\n",
    "    print(f\"Meilleur nombre de composants pour maximiser le gain de score : {best_n_comp}\\n\")\n",
    "\n",
    "    comp_ranker.update_rank(valid_scores_incr)"
   ]
  },
  {
   "cell_type": "code",
   "execution_count": null,
   "metadata": {},
   "outputs": [],
   "source": [
    "def get_best_np_comp(comp_ranker, nb_comp_range):\n",
    "    x_nb_comp, y_score = comp_ranker.get_best_n_comps(nb_comp_range)\n",
    "\n",
    "    plt.title(\"Évaluation du meilleur nombre de composants\\nen fonction du score moyen\")\n",
    "    plt.bar(x_nb_comp, y_score, width=1)\n",
    "    plt.xlabel(\"nombre de composants\")\n",
    "    plt.ylabel(\"score moyen\")\n",
    "\n",
    "    best_nb_comp, best_score = -1, -1\n",
    "    for nb_comp, score in zip(x_nb_comp, y_score):\n",
    "        if score > best_score:\n",
    "            best_nb_comp = nb_comp\n",
    "            best_score = score\n",
    "\n",
    "    plt.plot(best_nb_comp, best_score, marker=\"X\", color=\"red\")\n",
    "    print(f\"Meilleur nombre de composants : {best_nb_comp}\\n\")\n",
    "\n",
    "    return best_nb_comp    "
   ]
  },
  {
   "cell_type": "markdown",
   "metadata": {},
   "source": [
    "## 1. Première sélection (sélection large)"
   ]
  },
  {
   "cell_type": "code",
   "execution_count": null,
   "metadata": {},
   "outputs": [],
   "source": [
    "s1_nb_steps = 5\n",
    "s1_incr = 10\n",
    "s1_min = 1\n",
    "s1_max = s1_min + s1_nb_steps * s1_incr\n",
    "s1_nb_comp_range = np.arange(s1_min, s1_max, s1_incr)"
   ]
  },
  {
   "cell_type": "code",
   "execution_count": null,
   "metadata": {
    "scrolled": true
   },
   "outputs": [],
   "source": [
    "s1_training_scores, s1_valid_scores, s1_explained_variances, s1_tab = get_scores_for_nb_comp_range(s1_nb_comp_range)"
   ]
  },
  {
   "cell_type": "code",
   "execution_count": null,
   "metadata": {},
   "outputs": [],
   "source": [
    "s1_n = len(s1_training_scores)\n",
    "s1_comp_ranker = CompRanker(s1_n)\n",
    "s1_tab"
   ]
  },
  {
   "cell_type": "code",
   "execution_count": null,
   "metadata": {},
   "outputs": [],
   "source": [
    "plot_best_explained_variance(s1_comp_ranker, s1_nb_comp_range, s1_explained_variances)"
   ]
  },
  {
   "cell_type": "code",
   "execution_count": null,
   "metadata": {},
   "outputs": [],
   "source": [
    "plot_best_scores(s1_comp_ranker, s1_nb_comp_range, s1_training_scores, s1_valid_scores)"
   ]
  },
  {
   "cell_type": "code",
   "execution_count": null,
   "metadata": {},
   "outputs": [],
   "source": [
    "plot_less_overfitting(s1_comp_ranker, s1_nb_comp_range, s1_training_scores, s1_valid_scores)"
   ]
  },
  {
   "cell_type": "code",
   "execution_count": null,
   "metadata": {},
   "outputs": [],
   "source": [
    "plot_best_incr_scores(s1_comp_ranker, s1_nb_comp_range, s1_training_scores, s1_valid_scores)"
   ]
  },
  {
   "cell_type": "code",
   "execution_count": null,
   "metadata": {},
   "outputs": [],
   "source": [
    "s1_best_nb_comp = get_best_np_comp(s1_comp_ranker, s1_nb_comp_range)"
   ]
  },
  {
   "cell_type": "markdown",
   "metadata": {},
   "source": [
    "## 2. Deuxième sélection (sélection moyenne)"
   ]
  },
  {
   "cell_type": "code",
   "execution_count": null,
   "metadata": {},
   "outputs": [],
   "source": [
    "s2_nb_steps = 5\n",
    "s2_incr = 3\n",
    "s2_min = s1_best_nb_comp - int(s2_nb_steps/2)     * s2_incr\n",
    "s2_max = s1_best_nb_comp + (1+int(s2_nb_steps/2)) * s2_incr\n",
    "s2_nb_comp_range = np.arange(s2_min, s2_max, s2_incr)"
   ]
  },
  {
   "cell_type": "code",
   "execution_count": null,
   "metadata": {},
   "outputs": [],
   "source": [
    "s2_training_scores, s2_valid_scores, s2_explained_variances, s2_tab = get_scores_for_nb_comp_range(s2_nb_comp_range)"
   ]
  },
  {
   "cell_type": "code",
   "execution_count": null,
   "metadata": {},
   "outputs": [],
   "source": [
    "s2_n = len(s2_training_scores)\n",
    "s2_comp_ranker = CompRanker(s2_n)\n",
    "s2_tab"
   ]
  },
  {
   "cell_type": "code",
   "execution_count": null,
   "metadata": {},
   "outputs": [],
   "source": [
    "plot_best_explained_variance(s2_comp_ranker, s2_nb_comp_range, s2_explained_variances)"
   ]
  },
  {
   "cell_type": "code",
   "execution_count": null,
   "metadata": {},
   "outputs": [],
   "source": [
    "plot_best_scores(s2_comp_ranker, s2_nb_comp_range, s2_training_scores, s2_valid_scores)"
   ]
  },
  {
   "cell_type": "code",
   "execution_count": null,
   "metadata": {},
   "outputs": [],
   "source": [
    "plot_less_overfitting(s2_comp_ranker, s2_nb_comp_range, s2_training_scores, s2_valid_scores)"
   ]
  },
  {
   "cell_type": "code",
   "execution_count": null,
   "metadata": {},
   "outputs": [],
   "source": [
    "plot_best_incr_scores(s2_comp_ranker, s2_nb_comp_range, s2_training_scores, s2_valid_scores)"
   ]
  },
  {
   "cell_type": "code",
   "execution_count": null,
   "metadata": {},
   "outputs": [],
   "source": [
    "s2_best_nb_comp = get_best_np_comp(s2_comp_ranker, s2_nb_comp_range)"
   ]
  },
  {
   "cell_type": "markdown",
   "metadata": {},
   "source": [
    "## 3. Troisième sélection (sélection étroite)"
   ]
  },
  {
   "cell_type": "code",
   "execution_count": null,
   "metadata": {},
   "outputs": [],
   "source": [
    "s3_nb_steps = 5\n",
    "s3_incr = 1\n",
    "s3_min = s2_best_nb_comp - int(s3_nb_steps/2)     * s3_incr\n",
    "s3_max = s2_best_nb_comp + (1+int(s3_nb_steps/2)) * s3_incr\n",
    "s3_nb_comp_range = np.arange(s3_min, s3_max, s3_incr)"
   ]
  },
  {
   "cell_type": "code",
   "execution_count": null,
   "metadata": {},
   "outputs": [],
   "source": [
    "s3_training_scores, s3_valid_scores, s3_explained_variances, s3_tab = get_scores_for_nb_comp_range(s3_nb_comp_range)"
   ]
  },
  {
   "cell_type": "code",
   "execution_count": null,
   "metadata": {},
   "outputs": [],
   "source": [
    "s3_n = len(s3_training_scores)\n",
    "s3_comp_ranker = CompRanker(s3_n)\n",
    "s3_tab"
   ]
  },
  {
   "cell_type": "code",
   "execution_count": null,
   "metadata": {},
   "outputs": [],
   "source": [
    "plot_best_explained_variance(s3_comp_ranker, s3_nb_comp_range, s3_explained_variances)"
   ]
  },
  {
   "cell_type": "code",
   "execution_count": null,
   "metadata": {},
   "outputs": [],
   "source": [
    "plot_best_scores(s3_comp_ranker, s3_nb_comp_range, s3_training_scores, s3_valid_scores)"
   ]
  },
  {
   "cell_type": "code",
   "execution_count": null,
   "metadata": {},
   "outputs": [],
   "source": [
    "plot_less_overfitting(s3_comp_ranker, s3_nb_comp_range, s3_training_scores, s3_valid_scores)"
   ]
  },
  {
   "cell_type": "code",
   "execution_count": null,
   "metadata": {},
   "outputs": [],
   "source": [
    "plot_best_incr_scores(s3_comp_ranker, s3_nb_comp_range, s3_training_scores, s3_valid_scores)"
   ]
  },
  {
   "cell_type": "code",
   "execution_count": null,
   "metadata": {},
   "outputs": [],
   "source": [
    "s3_best_nb_comp = get_best_np_comp(s3_comp_ranker, s3_nb_comp_range)"
   ]
  },
  {
   "cell_type": "markdown",
   "metadata": {},
   "source": [
    "## 4. Conclusion"
   ]
  },
  {
   "cell_type": "code",
   "execution_count": null,
   "metadata": {},
   "outputs": [],
   "source": [
    "best_nb_comp = s3_best_nb_comp\n",
    "pre_proc = sklearn.decomposition.PCA(n_components=best_nb_comp)\n",
    "pre_proc.fit(X)\n",
    "\n",
    "X_train_transformed = pre_proc.transform(X_train)\n",
    "X_valid_transformed = pre_proc.transform(X_valid)\n",
    "X_test_transformed = pre_proc.transform(X_test)\n",
    "\n",
    "print(f\"Le meilleur nombre de composant pour la PCA : {best_nb_comp}\")"
   ]
  },
  {
   "cell_type": "code",
   "execution_count": null,
   "metadata": {},
   "outputs": [],
   "source": [
    "nb_pictures = 3\n",
    "fig, ax = plt.subplots(2, nb_pictures)\n",
    "\n",
    "fig.suptitle(f\"Affichage des images compressé par la PCA\")\n",
    "\n",
    "for i in range(nb_pictures):\n",
    "    img = X_train[i].reshape(dim_repre, dim_repre)\n",
    "    inverse_transformed_img = pre_proc.inverse_transform(X_train_transformed[i])\n",
    "    compressed_img = inverse_transformed_img.reshape(dim_repre, dim_repre)\n",
    "    if i == 0:\n",
    "        ax[0,i].set_ylabel(\"originales\")\n",
    "        ax[1,i].set_ylabel(\"compressées\")\n",
    "    ax[0,i].set_xticks([])\n",
    "    ax[1,i].set_xticks([])\n",
    "    ax[0,i].set_yticks([])\n",
    "    ax[1,i].set_yticks([])\n",
    "    ax[0,i].imshow(img, cm.gray)\n",
    "    ax[1,i].imshow(compressed_img, cm.gray)"
   ]
  },
  {
   "cell_type": "markdown",
   "metadata": {},
   "source": [
    "---\n",
    "\n",
    "# Modèle\n",
    "## Sélection du meilleur modèle"
   ]
  },
  {
   "cell_type": "code",
   "execution_count": null,
   "metadata": {},
   "outputs": [],
   "source": [
    "model_dict = dict(SVC=SVC(),                                            # On créé un dictionnaire de modèle\n",
    "                  NuSVC=NuSVC(),\n",
    "                  DecisionTree=DecisionTreeClassifier(),\n",
    "                  LinearSVC=LinearSVC())"
   ]
  },
  {
   "cell_type": "code",
   "execution_count": null,
   "metadata": {},
   "outputs": [],
   "source": [
    "def comparison_of_models(X_train, y_train, X_valid, y_valid, model_dict):\n",
    "    tab_result = pd.DataFrame(columns=[\"CVScore\",                       # On créé un tableau panda\n",
    "                                       \"(+/-)\",\n",
    "                                       \"Score_training\",\n",
    "                                       \"Score_validation\"])  \n",
    "    for model_name, model in model_dict.items():                        # On itère sur chaque modèle du dictionnaire\n",
    "        print(\"Calcul des scores pour le modèle\", model_name, \"...\")\n",
    "        print(\"\\t- Entrainement du modèle avec l'ensemble d'entrainement\")\n",
    "        if model_name == \"LinearSVC\":\n",
    "            model.fit(normalize(X_train), y_train)\n",
    "        else:\n",
    "            model.fit(X_train, y_train)                                 # On entraine le modèle sur l'ensemble d'entrainement\n",
    "        print(\"\\t- Calcul du score de validation croisée\")\n",
    "        CVScore = cross_val_score(model, X_train, y_train, cv=5)        # On calcul la cross validation\n",
    "        print(\"\\t- Calcul du score sur l'ensemble d'entrainement\")\n",
    "        train_score = model.score(X_train, y_train)                     # On calcul le score sur l'ensemble d'entrainement\n",
    "        print(\"\\t- Calcul du score sur l'ensemble de validation\")\n",
    "        valid_score = model.score(X_valid, y_valid)                     # On calcul le score sur l'ensemble de validation\n",
    "        print(\"... Fin des calculs pour le modèle\", model_name)\n",
    "        tab_result.loc[model_name] = np.array([CVScore.mean(),          # On ajoute les scores dans le tableau\n",
    "                                               CVScore.std(),\n",
    "                                               train_score,\n",
    "                                               valid_score])\n",
    "    return tab_result"
   ]
  },
  {
   "cell_type": "markdown",
   "metadata": {},
   "source": [
    "### comparaison avec PCA"
   ]
  },
  {
   "cell_type": "code",
   "execution_count": null,
   "metadata": {},
   "outputs": [],
   "source": [
    "compar_results_with_PCA = comparison_of_models(X_train_transformed,     # Appel de la fonction \"performance\" avec nos données transformées\n",
    "                                               y_train,\n",
    "                                               X_valid_transformed,\n",
    "                                               y_valid,\n",
    "                                               model_dict)"
   ]
  },
  {
   "cell_type": "code",
   "execution_count": null,
   "metadata": {},
   "outputs": [],
   "source": [
    "best_model_with_PCA = compar_results_with_PCA.Score_validation.idxmax()\n",
    "print(\"Le meilleur modèle avec la PCA est : {}\".format(best_model_with_PCA))\n",
    "compar_results_with_PCA.round(6)                                        # On affiche le tableau résultant"
   ]
  },
  {
   "cell_type": "markdown",
   "metadata": {},
   "source": [
    "### comparaison sans PCA"
   ]
  },
  {
   "cell_type": "code",
   "execution_count": null,
   "metadata": {},
   "outputs": [],
   "source": [
    "compar_results_without_PCA = comparison_of_models(X_train,              # Appel de la fonction \"performance\" avec les données initiales\n",
    "                                      y_train,\n",
    "                                      X_valid,\n",
    "                                      y_valid,\n",
    "                                      model_dict)"
   ]
  },
  {
   "cell_type": "code",
   "execution_count": null,
   "metadata": {},
   "outputs": [],
   "source": [
    "best_model_without_PCA = compar_results_without_PCA.Score_validation.idxmax()\n",
    "print(\"Le meilleur modèle sans PCA est : {}\".format(best_model_without_PCA))\n",
    "compar_results_without_PCA.round(6)                                      # On affiche le tableau résultant"
   ]
  },
  {
   "cell_type": "markdown",
   "metadata": {},
   "source": [
    "## Sélection des hyper-paramètres"
   ]
  },
  {
   "cell_type": "code",
   "execution_count": null,
   "metadata": {},
   "outputs": [],
   "source": [
    "model = SVC(kernel='poly')                                               # On initialise notre meilleur modèle\n",
    "hyper_parameters = dict(C=[1, 3],\n",
    "                        degree=[2, 3, 4],                                # On créé un dictionnaire d'hyper-paramètres de ce modèle\n",
    "                        coef0=[0.0, 1.0, 2.0])\n",
    "model_select = GridSearchCV(svc, distributions, cv=5)                    # On apelle la fonction GridSearchCV\n",
    "model_select.fit(X_train_transformed, y_train)                           # On entraine notre modèle avec toutes les combinaisons des hyper-paramètres possible et en calculant la cross-validation"
   ]
  },
  {
   "cell_type": "code",
   "execution_count": null,
   "metadata": {},
   "outputs": [],
   "source": [
    "print(\"Les différentes configurations possibles dans la recherche des hyper-paramètres\")\n",
    "for i, v in enumerate(model_select.cv_results_[\"params\"]):               # On affiche les différentes configurations possible\n",
    "    print(f\"configuration {i}: {v}\")"
   ]
  },
  {
   "cell_type": "code",
   "execution_count": null,
   "metadata": {},
   "outputs": [],
   "source": [
    "scores = model_select.cv_results_[\"mean_test_score\"]\n",
    "configuration = list(range(len(model_select.cv_results_[\"params\"])))\n",
    "plt.title('Évolution du score en fonction des hyper-paramètres')\n",
    "plt.plot(configuration, scores, label='train score')\n",
    "plt.plot(np.argmax(scores), max(scores), marker='X', color='red')\n",
    "plt.xlabel('configuration des hyper-paramètres')\n",
    "plt.ylabel(\"score de l'ensemble d'entrainement\")\n",
    "plt.legend()"
   ]
  },
  {
   "cell_type": "code",
   "execution_count": null,
   "metadata": {},
   "outputs": [],
   "source": [
    "print(f\"La meilleure configuration du modèle est : {model_select.best_estimator_}\")"
   ]
  },
  {
   "cell_type": "markdown",
   "metadata": {},
   "source": [
    "---\n",
    "\n",
    "# Test final"
   ]
  },
  {
   "cell_type": "code",
   "execution_count": null,
   "metadata": {},
   "outputs": [],
   "source": [
    "display_mean_image(X_test, y_test)"
   ]
  },
  {
   "cell_type": "code",
   "execution_count": null,
   "metadata": {},
   "outputs": [],
   "source": [
    "X_transformed = pre_proc.transform(X)\n",
    "\n",
    "svc = model_select.best_estimator_\n",
    "svc.fit(X_transformed, y)\n",
    "print(\"Score final sur l'ensemble test : \", svc.score(X_test_transformed, y_test))"
   ]
  }
 ],
 "metadata": {
  "kernelspec": {
   "display_name": "Python 3",
   "language": "python",
   "name": "python3"
  },
  "language_info": {
   "codemirror_mode": {
    "name": "ipython",
    "version": 3
   },
   "file_extension": ".py",
   "mimetype": "text/x-python",
   "name": "python",
   "nbconvert_exporter": "python",
   "pygments_lexer": "ipython3",
   "version": "3.7.4"
  },
  "metadata": {
   "interpreter": {
    "hash": "31f2aee4e71d21fbe5cf8b01ff0e069b9275f58929596ceb00d14d90e3e16cd6"
   }
  }
 },
 "nbformat": 4,
 "nbformat_minor": 2
}
